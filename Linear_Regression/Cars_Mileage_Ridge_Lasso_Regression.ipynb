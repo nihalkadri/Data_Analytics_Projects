{
  "nbformat": 4,
  "nbformat_minor": 0,
  "metadata": {
    "colab": {
      "provenance": []
    },
    "kernelspec": {
      "name": "python3",
      "display_name": "Python 3"
    },
    "language_info": {
      "name": "python"
    }
  },
  "cells": [
    {
      "cell_type": "code",
      "execution_count": 17,
      "metadata": {
        "id": "QvyKKqxRc6eQ"
      },
      "outputs": [],
      "source": [
        "#%matplotlib.inline\n",
        "import numpy as np\n",
        "from sklearn.linear_model import LinearRegression\n",
        "from sklearn.linear_model import Ridge\n",
        "from sklearn.linear_model import Lasso\n",
        "from sklearn.metrics import r2_score\n",
        "import pandas as pd\n",
        "import matplotlib.pyplot as plt\n",
        "import seaborn as sns"
      ]
    },
    {
      "cell_type": "code",
      "source": [
        "mpg_df = pd.read_csv('mpg.csv')\n",
        "mpg_df =mpg_df.drop('name',axis=1)\n",
        "mpg_df['origin'] =mpg_df['origin'].replace({1:'america',2:'europe',3:'asia'})\n",
        "mpg_df =pd.get_dummies(mpg_df,columns=['origin'])\n",
        "mpg_df = mpg_df.replace('?',np.nan)\n",
        "mpg_df = mpg_df.apply(lambda x:x.fillna(x.median()),axis=0)"
      ],
      "metadata": {
        "id": "VEn6xsD0dZfI"
      },
      "execution_count": 18,
      "outputs": []
    },
    {
      "cell_type": "code",
      "source": [
        "x = mpg_df.drop('mpg',axis=1)\n",
        "y = mpg_df[['mpg']]"
      ],
      "metadata": {
        "id": "wJl85v1neOfk"
      },
      "execution_count": 19,
      "outputs": []
    },
    {
      "cell_type": "code",
      "source": [
        "from sklearn import preprocessing\n",
        "x_scaled =preprocessing.scale(x)\n",
        "x_scaled = pd.DataFrame(x_scaled,columns=x.columns)\n",
        "\n",
        "y_scaled =preprocessing.scale(y)\n",
        "y_scaled = pd.DataFrame(y_scaled,columns=y.columns)"
      ],
      "metadata": {
        "id": "_SAUqV2Zfb62"
      },
      "execution_count": 21,
      "outputs": []
    },
    {
      "cell_type": "code",
      "source": [
        "from sklearn.model_selection import train_test_split\n",
        "x_train, x_test, y_train,y_test =train_test_split(x_scaled,y_scaled,test_size=0.3,random_state=1)"
      ],
      "metadata": {
        "id": "ITLh-iSXgHQh"
      },
      "execution_count": 23,
      "outputs": []
    },
    {
      "cell_type": "code",
      "source": [
        "regression_model = LinearRegression()\n",
        "regression_model.fit(x_train,y_train)\n",
        "for idx, col_name in enumerate(x_train.columns):\n",
        "  print(col_name, regression_model.coef_[0][idx])"
      ],
      "metadata": {
        "colab": {
          "base_uri": "https://localhost:8080/"
        },
        "id": "7Dl3nwMdgZ6M",
        "outputId": "05fcea76-4f5a-4643-8bba-144581634d7f"
      },
      "execution_count": 26,
      "outputs": [
        {
          "output_type": "stream",
          "name": "stdout",
          "text": [
            "cylinders -0.08592264254448635\n",
            "displacement 0.38615017668954277\n",
            "horsepower -0.10637514644618914\n",
            "weight -0.7965737428612103\n",
            "acceleration 0.021846813318919522\n",
            "model_year 0.39594105310149513\n",
            "origin_america -0.0939989664489348\n",
            "origin_asia 0.04491789013805135\n",
            "origin_europe 0.07243059852959359\n"
          ]
        }
      ]
    },
    {
      "cell_type": "code",
      "source": [
        "intercept = regression_model.intercept_[0]\n",
        "print(intercept)"
      ],
      "metadata": {
        "colab": {
          "base_uri": "https://localhost:8080/"
        },
        "id": "7iuz3-x_g-aW",
        "outputId": "05a9dcd6-7be8-43eb-fb2c-2d95cdc51a6b"
      },
      "execution_count": 27,
      "outputs": [
        {
          "output_type": "stream",
          "name": "stdout",
          "text": [
            "0.015510225561902374\n"
          ]
        }
      ]
    },
    {
      "cell_type": "code",
      "source": [
        "#Ridge model\n",
        "ridge = Ridge(alpha=.3)\n",
        "ridge.fit(x_train,y_train)\n",
        "print(ridge.coef_)"
      ],
      "metadata": {
        "colab": {
          "base_uri": "https://localhost:8080/"
        },
        "id": "qqGtNhvEhL6l",
        "outputId": "939b8147-7dbd-4f4c-ad8e-7a93acb8082f"
      },
      "execution_count": 30,
      "outputs": [
        {
          "output_type": "stream",
          "name": "stdout",
          "text": [
            "[[-0.0800581   0.36661042 -0.10890119 -0.78324655  0.01917898  0.39442138\n",
            "  -0.0930884   0.04466769  0.07153523]]\n"
          ]
        }
      ]
    },
    {
      "cell_type": "code",
      "source": [
        "#Lasso Model\n",
        "lasso = Lasso(alpha=0.1)\n",
        "lasso.fit(x_train,y_train)\n",
        "print(lasso.coef_)"
      ],
      "metadata": {
        "colab": {
          "base_uri": "https://localhost:8080/"
        },
        "id": "VDKXd6PJhWXg",
        "outputId": "8d834d3a-01fb-40f0-8e8d-89a121b083ce"
      },
      "execution_count": 31,
      "outputs": [
        {
          "output_type": "stream",
          "name": "stdout",
          "text": [
            "[-0.         -0.         -0.01464723 -0.60711757  0.          0.29460087\n",
            " -0.04017427  0.          0.        ]\n"
          ]
        }
      ]
    },
    {
      "cell_type": "code",
      "source": [
        "print(regression_model.score(x_train,y_train))\n",
        "print(regression_model.score(x_test,y_test))"
      ],
      "metadata": {
        "colab": {
          "base_uri": "https://localhost:8080/"
        },
        "id": "yL-3oKHmhqBe",
        "outputId": "e0477e12-e09b-433c-9b05-807a872ede50"
      },
      "execution_count": 32,
      "outputs": [
        {
          "output_type": "stream",
          "name": "stdout",
          "text": [
            "0.8141025501610559\n",
            "0.8433135132808832\n"
          ]
        }
      ]
    },
    {
      "cell_type": "code",
      "source": [
        "print(ridge.score(x_train,y_train))\n",
        "print(ridge.score(x_test,y_test))"
      ],
      "metadata": {
        "colab": {
          "base_uri": "https://localhost:8080/"
        },
        "id": "T0wzU2MuhxX1",
        "outputId": "1a43454f-d56b-4691-8b04-8f1a0b691785"
      },
      "execution_count": 33,
      "outputs": [
        {
          "output_type": "stream",
          "name": "stdout",
          "text": [
            "0.8140828080856514\n",
            "0.8437999817350272\n"
          ]
        }
      ]
    },
    {
      "cell_type": "code",
      "source": [
        "print(lasso.score(x_train,y_train))\n",
        "print(lasso.score(x_test,y_test))"
      ],
      "metadata": {
        "colab": {
          "base_uri": "https://localhost:8080/"
        },
        "id": "5VdXmYmMh5GC",
        "outputId": "cf9ece2d-d588-44ea-9c1b-a04727e4a521"
      },
      "execution_count": 34,
      "outputs": [
        {
          "output_type": "stream",
          "name": "stdout",
          "text": [
            "0.7878910251573478\n",
            "0.8315130533007058\n"
          ]
        }
      ]
    },
    {
      "cell_type": "code",
      "source": [
        "from sklearn.preprocessing import PolynomialFeatures"
      ],
      "metadata": {
        "id": "TilHSF-Dh7zN"
      },
      "execution_count": 35,
      "outputs": []
    },
    {
      "cell_type": "code",
      "source": [
        "poly = PolynomialFeatures(degree = 2, interaction_only=True)\n"
      ],
      "metadata": {
        "id": "OVdQZ54LiEmU"
      },
      "execution_count": 36,
      "outputs": []
    },
    {
      "cell_type": "code",
      "source": [
        "x_poly = poly.fit_transform(x_scaled)\n",
        "x_train,x_test,y_train,y_test=train_test_split(x_poly,y,test_size=0.3,random_state=1)\n",
        "x_train.shape"
      ],
      "metadata": {
        "colab": {
          "base_uri": "https://localhost:8080/"
        },
        "id": "h8l0ScZNiKtg",
        "outputId": "17dd8f07-8d46-4478-cb90-c48852e2f725"
      },
      "execution_count": 46,
      "outputs": [
        {
          "output_type": "execute_result",
          "data": {
            "text/plain": [
              "(278, 46)"
            ]
          },
          "metadata": {},
          "execution_count": 46
        }
      ]
    },
    {
      "cell_type": "code",
      "source": [
        "regression_model.fit(x_train,y_train)\n",
        "print(regression_model.coef_[0])"
      ],
      "metadata": {
        "colab": {
          "base_uri": "https://localhost:8080/"
        },
        "id": "OvBT7CGuiXIx",
        "outputId": "f5c49aa7-8054-4a9c-d28e-b388df98c91a"
      },
      "execution_count": 47,
      "outputs": [
        {
          "output_type": "stream",
          "name": "stdout",
          "text": [
            "[-3.68062164e-13 -3.38019048e-01 -2.92838331e-01 -1.99370468e+00\n",
            " -5.23089321e+00 -6.29375520e-01  3.06573890e+00 -2.57399194e+11\n",
            " -9.99763270e+12  9.84532305e+12 -1.81912981e+00  1.23627615e-01\n",
            "  2.47387724e+00  1.53906214e+00 -1.71266427e+00  1.25282436e+13\n",
            "  1.03253853e+13  9.85560577e+12 -9.15902281e-02  1.47734652e+00\n",
            " -1.43820708e+00  3.10218238e+00  2.56068679e+12  2.11043772e+12\n",
            "  2.01441801e+12 -4.04533009e-01 -1.09179064e-01 -1.69184608e+00\n",
            "  8.46778616e+11  6.97888370e+11  6.66136170e+11 -7.53385421e-02\n",
            "  2.11284158e-01 -4.65660364e+12 -3.83782664e+12 -3.66321499e+12\n",
            "  6.44392467e-01 -1.21902966e+12 -1.00468601e+12 -9.58975270e+11\n",
            " -4.09040298e+11 -3.37118182e+11 -3.21780136e+11  2.81853460e+11\n",
            "  1.56536429e+13 -8.81941246e+12]\n"
          ]
        }
      ]
    },
    {
      "cell_type": "code",
      "source": [
        "ridge = Ridge(alpha=.3)\n",
        "ridge.fit(x_train,y_train)\n",
        "print(ridge.coef_)"
      ],
      "metadata": {
        "colab": {
          "base_uri": "https://localhost:8080/"
        },
        "id": "afJgBsq9imm2",
        "outputId": "8d3f3a83-2b0f-4e64-e0f0-694ee8d0a727"
      },
      "execution_count": 48,
      "outputs": [
        {
          "output_type": "stream",
          "name": "stdout",
          "text": [
            "[[ 0.          0.06740642 -0.61900803 -1.97236759 -5.15141317 -0.62282102\n",
            "   3.04381568  0.1723188   0.15891088 -0.38553368 -1.4895438   0.02925116\n",
            "   1.72762625  1.4201127  -1.38679985 -0.05712906  1.13569653 -1.11720961\n",
            "   0.30089657  1.53987731 -0.84218996  2.38658282  0.21457492  0.50684735\n",
            "  -0.80377008 -0.47592772 -0.30069342 -1.50318104 -0.61710306  0.43440955\n",
            "   0.32933252 -0.14480549  0.25597746  0.47585604 -0.93880283  0.37865359\n",
            "   0.4784103  -0.67039722  0.22915648  0.61211567 -0.49887694  0.4033774\n",
            "   0.21155723 -0.29118156  0.41878367  0.1184465 ]]\n"
          ]
        }
      ]
    },
    {
      "cell_type": "code",
      "source": [
        "print(ridge.score(x_train,y_train))\n",
        "print(ridge.score(x_test,y_test))"
      ],
      "metadata": {
        "colab": {
          "base_uri": "https://localhost:8080/"
        },
        "id": "GgSTxcFUiv0Q",
        "outputId": "33f6123d-ca07-411d-d65d-e165e4d835f1"
      },
      "execution_count": 50,
      "outputs": [
        {
          "output_type": "stream",
          "name": "stdout",
          "text": [
            "0.9025975935207238\n",
            "0.8673792928418453\n"
          ]
        }
      ]
    },
    {
      "cell_type": "code",
      "source": [
        "lasso=Lasso(alpha=0.01)\n",
        "lasso.fit(x_train,y_train)\n",
        "print(lasso.coef_)"
      ],
      "metadata": {
        "colab": {
          "base_uri": "https://localhost:8080/"
        },
        "id": "ojZSvvMOj0KU",
        "outputId": "ac557ed6-8fb4-422a-c34d-306e84f54da3"
      },
      "execution_count": 53,
      "outputs": [
        {
          "output_type": "stream",
          "name": "stdout",
          "text": [
            "[ 0.         -0.         -0.08692269 -1.94971176 -5.29180738 -0.47273225\n",
            "  2.98385949 -0.          0.         -0.         -0.79527606 -0.05882027\n",
            "  1.1561088   1.08164446 -0.9493974  -0.          1.23352833 -0.87530628\n",
            " -0.          1.38994992 -0.4329787   1.86995071 -0.          0.\n",
            " -0.         -0.         -0.24115467 -1.24997101 -0.6285489   0.\n",
            "  0.         -0.16019703  0.          0.26564551 -0.61312578 -0.\n",
            "  0.47635543 -0.89394     0.          0.3945189  -0.68253648  0.12935612\n",
            "  0.         -0.23102258  0.38217499  0.        ]\n"
          ]
        }
      ]
    },
    {
      "cell_type": "code",
      "source": [
        "print(lasso.score(x_train,y_train))\n",
        "print(lasso.score(x_test,y_test))"
      ],
      "metadata": {
        "colab": {
          "base_uri": "https://localhost:8080/"
        },
        "id": "FcPX8oGij-eq",
        "outputId": "ec3fb040-80de-42c7-ad26-efa0b4b3dbff"
      },
      "execution_count": 54,
      "outputs": [
        {
          "output_type": "stream",
          "name": "stdout",
          "text": [
            "0.9013410674767774\n",
            "0.8704180363604552\n"
          ]
        }
      ]
    },
    {
      "cell_type": "code",
      "source": [],
      "metadata": {
        "id": "0FTTcAk_kHms"
      },
      "execution_count": null,
      "outputs": []
    }
  ]
}